{
 "cells": [
  {
   "cell_type": "markdown",
   "id": "8fe7d84e",
   "metadata": {},
   "source": [
    "# Expansion and contraction in sensory bottlenecks"
   ]
  },
  {
   "cell_type": "code",
   "execution_count": null,
   "id": "8165e9d0",
   "metadata": {},
   "outputs": [],
   "source": [
    "import sensory_bottlenecks as sb\n",
    "import pickle as pk     \n",
    "import numpy as np\n",
    "\n",
    "import warnings\n",
    "warnings.simplefilter(\"ignore\")"
   ]
  },
  {
   "cell_type": "markdown",
   "id": "d000628d",
   "metadata": {},
   "source": [
    "## Example for 1D regions"
   ]
  },
  {
   "cell_type": "code",
   "execution_count": null,
   "id": "5aab4f27",
   "metadata": {},
   "outputs": [],
   "source": [
    "# Parameters for model\n",
    "size = 500 # set size of region\n",
    "dens_ratio = 2 # density ratio\n",
    "act_ratio = 1 # activation ratio\n",
    "sigma = 1 # sigma"
   ]
  },
  {
   "cell_type": "code",
   "execution_count": null,
   "id": "fda7c15a",
   "metadata": {},
   "outputs": [],
   "source": [
    "# run model\n",
    "allo_x, allo_y = sb.bottleneck_allocation_1D(size, dens_ratio, act_ratio, sigma)"
   ]
  },
  {
   "cell_type": "code",
   "execution_count": null,
   "id": "8b3ae209",
   "metadata": {},
   "outputs": [],
   "source": [
    "# plot allocations\n",
    "sb.allocation_plot(allo_x, allo_y, dens_ratio, act_ratio, plot_type='1D')"
   ]
  },
  {
   "cell_type": "markdown",
   "id": "b5f4bb74",
   "metadata": {},
   "source": [
    "## Example for 2D regions"
   ]
  },
  {
   "cell_type": "code",
   "execution_count": null,
   "id": "a88fb595",
   "metadata": {},
   "outputs": [],
   "source": [
    "# Parameters for model\n",
    "size = 500 # set size of region\n",
    "dens_ratio = 2 # density ratio\n",
    "act_ratio = 1 # activation ratio\n",
    "sigma = 1 # sigma"
   ]
  },
  {
   "cell_type": "code",
   "execution_count": null,
   "id": "deb07015",
   "metadata": {},
   "outputs": [],
   "source": [
    "# run model\n",
    "allo_x, allo_y = sb.bottleneck_allocation_2D(size, dens_ratio, act_ratio, sigma)"
   ]
  },
  {
   "cell_type": "code",
   "execution_count": null,
   "id": "4c2b84bb",
   "metadata": {},
   "outputs": [],
   "source": [
    "# plot allocations\n",
    "sb.allocation_plot(allo_x, allo_y, dens_ratio, act_ratio, plot_type='2D')"
   ]
  },
  {
   "cell_type": "markdown",
   "id": "cedf3387",
   "metadata": {},
   "source": [
    "## Star-nosed mole"
   ]
  },
  {
   "cell_type": "code",
   "execution_count": null,
   "id": "1fbc3145",
   "metadata": {},
   "outputs": [],
   "source": [
    "# load SNM parameters\n",
    "with open('snm_params.pk', 'rb') as handle:\n",
    "    snm_data = pk.load(handle)"
   ]
  },
  {
   "cell_type": "code",
   "execution_count": null,
   "id": "d819b6c7",
   "metadata": {},
   "outputs": [],
   "source": [
    "# SNM innervation density plots\n",
    "sb.snm_ray_plot(snm_data['innervation'], 'Purples', 'Density')"
   ]
  },
  {
   "cell_type": "code",
   "execution_count": null,
   "id": "2021c9be",
   "metadata": {},
   "outputs": [],
   "source": [
    "# SNM usage plot\n",
    "sb.snm_ray_plot(snm_data['percent_usage'], 'Greens', 'Activation')"
   ]
  },
  {
   "cell_type": "code",
   "execution_count": null,
   "id": "2ca76af3",
   "metadata": {},
   "outputs": [],
   "source": [
    "# Density only\n",
    "allo_per_d = sb.snm_sim(snm_data['sizes'], snm_data['dens_ratios'], np.ones(11)*np.mean(snm_data['variances']), snm_data['sigmas'])\n",
    "_, rmse_val_d = sb.snm_rmse_all_bottlenecks(allo_per_d, snm_data['cortex_per'])"
   ]
  },
  {
   "cell_type": "code",
   "execution_count": null,
   "id": "c1e01b47",
   "metadata": {},
   "outputs": [],
   "source": [
    "# Usage only\n",
    "allo_per_a = sb.snm_sim(snm_data['sizes'], np.ones(11)*np.mean(snm_data['dens_ratios']), snm_data['variances'], snm_data['sigmas'])\n",
    "_, rmse_val_a = sb.snm_rmse_all_bottlenecks(allo_per_a, snm_data['cortex_per'])"
   ]
  },
  {
   "cell_type": "code",
   "execution_count": null,
   "id": "639a44df",
   "metadata": {},
   "outputs": [],
   "source": [
    "# Full model\n",
    "allo_per_ad = sb.snm_sim(snm_data['sizes'], snm_data['dens_ratios'], snm_data['variances'], snm_data['sigmas'])\n",
    "rmse_allo_ad, rmse_val_ad = sb.snm_rmse_all_bottlenecks(allo_per_ad, snm_data['cortex_per'])"
   ]
  },
  {
   "cell_type": "code",
   "execution_count": null,
   "id": "8083d5c5",
   "metadata": {},
   "outputs": [],
   "source": [
    "# Figure 5c\n",
    "sb.snm_bar_plot([rmse_val_d, rmse_val_a, rmse_val_ad])"
   ]
  },
  {
   "cell_type": "code",
   "execution_count": null,
   "id": "51028d9f",
   "metadata": {},
   "outputs": [],
   "source": [
    "# Figure 5d\n",
    "sb.snm_scatter_ray(rmse_allo_ad, snm_data['cortex_per'])"
   ]
  }
 ],
 "metadata": {
  "kernelspec": {
   "display_name": "Python 3",
   "language": "python",
   "name": "python3"
  },
  "language_info": {
   "codemirror_mode": {
    "name": "ipython",
    "version": 3
   },
   "file_extension": ".py",
   "mimetype": "text/x-python",
   "name": "python",
   "nbconvert_exporter": "python",
   "pygments_lexer": "ipython3",
   "version": "3.7.6"
  },
  "varInspector": {
   "cols": {
    "lenName": 16,
    "lenType": 16,
    "lenVar": 40
   },
   "kernels_config": {
    "python": {
     "delete_cmd_postfix": "",
     "delete_cmd_prefix": "del ",
     "library": "var_list.py",
     "varRefreshCmd": "print(var_dic_list())"
    },
    "r": {
     "delete_cmd_postfix": ") ",
     "delete_cmd_prefix": "rm(",
     "library": "var_list.r",
     "varRefreshCmd": "cat(var_dic_list()) "
    }
   },
   "types_to_exclude": [
    "module",
    "function",
    "builtin_function_or_method",
    "instance",
    "_Feature"
   ],
   "window_display": false
  }
 },
 "nbformat": 4,
 "nbformat_minor": 5
}
